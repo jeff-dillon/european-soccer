{
 "cells": [
  {
   "cell_type": "markdown",
   "metadata": {},
   "source": [
    "# 01 Discovery: European Soccer Database\n",
    "\n",
    "Discovery notebook used to explore the European Soccer database from Kaggle.\n",
    "\n",
    "## Connect to the database and list the tables and columns"
   ]
  },
  {
   "cell_type": "code",
   "execution_count": 2,
   "metadata": {},
   "outputs": [
    {
     "data": {
      "text/html": [
       "<div>\n",
       "<style scoped>\n",
       "    .dataframe tbody tr th:only-of-type {\n",
       "        vertical-align: middle;\n",
       "    }\n",
       "\n",
       "    .dataframe tbody tr th {\n",
       "        vertical-align: top;\n",
       "    }\n",
       "\n",
       "    .dataframe thead th {\n",
       "        text-align: right;\n",
       "    }\n",
       "</style>\n",
       "<table border=\"1\" class=\"dataframe\">\n",
       "  <thead>\n",
       "    <tr style=\"text-align: right;\">\n",
       "      <th></th>\n",
       "      <th>name</th>\n",
       "    </tr>\n",
       "  </thead>\n",
       "  <tbody>\n",
       "    <tr>\n",
       "      <th>0</th>\n",
       "      <td>Player_Attributes</td>\n",
       "    </tr>\n",
       "    <tr>\n",
       "      <th>1</th>\n",
       "      <td>Player</td>\n",
       "    </tr>\n",
       "    <tr>\n",
       "      <th>2</th>\n",
       "      <td>Match</td>\n",
       "    </tr>\n",
       "    <tr>\n",
       "      <th>3</th>\n",
       "      <td>League</td>\n",
       "    </tr>\n",
       "    <tr>\n",
       "      <th>4</th>\n",
       "      <td>Country</td>\n",
       "    </tr>\n",
       "    <tr>\n",
       "      <th>5</th>\n",
       "      <td>Team</td>\n",
       "    </tr>\n",
       "    <tr>\n",
       "      <th>6</th>\n",
       "      <td>Team_Attributes</td>\n",
       "    </tr>\n",
       "  </tbody>\n",
       "</table>\n",
       "</div>"
      ],
      "text/plain": [
       "                name\n",
       "0  Player_Attributes\n",
       "1             Player\n",
       "2              Match\n",
       "3             League\n",
       "4            Country\n",
       "5               Team\n",
       "6    Team_Attributes"
      ]
     },
     "execution_count": 2,
     "metadata": {},
     "output_type": "execute_result"
    }
   ],
   "source": [
    "import os\n",
    "import pandas as pd\n",
    "import sqlite3\n",
    "import matplotlib.pyplot as plt\n",
    "\n",
    "# path to the database file - update as needed\n",
    "db_path = '../data/database.sqlite'\n",
    "\n",
    "conn = sqlite3.connect(db_path)\n",
    "\n",
    "# Use the metadata table \"sqlite_master\" to list the tables in this database\n",
    "# Ignore any internal tables (they start with 'sqlite')\n",
    "tables = pd.read_sql(\"\"\"SELECT name \n",
    "                        FROM sqlite_master \n",
    "                        WHERE type='table'\n",
    "                        AND name not like 'sqlite%'; \"\"\", conn)\n",
    "\n",
    "tables"
   ]
  },
  {
   "cell_type": "code",
   "execution_count": 34,
   "metadata": {},
   "outputs": [
    {
     "name": "stdout",
     "output_type": "stream",
     "text": [
      "           table_name  cid                 name     type  notnull dflt_value  \\\n",
      "0   Player_Attributes    0                   id  INTEGER        0       None   \n",
      "1   Player_Attributes    1   player_fifa_api_id  INTEGER        0       None   \n",
      "2   Player_Attributes    2        player_api_id  INTEGER        0       None   \n",
      "3   Player_Attributes    3                 date     TEXT        0       None   \n",
      "4   Player_Attributes    4       overall_rating  INTEGER        0       None   \n",
      "5   Player_Attributes    5            potential  INTEGER        0       None   \n",
      "6   Player_Attributes    6       preferred_foot     TEXT        0       None   \n",
      "7   Player_Attributes    7  attacking_work_rate     TEXT        0       None   \n",
      "8   Player_Attributes    8  defensive_work_rate     TEXT        0       None   \n",
      "9   Player_Attributes    9             crossing  INTEGER        0       None   \n",
      "10  Player_Attributes   10            finishing  INTEGER        0       None   \n",
      "11  Player_Attributes   11     heading_accuracy  INTEGER        0       None   \n",
      "12  Player_Attributes   12        short_passing  INTEGER        0       None   \n",
      "13  Player_Attributes   13              volleys  INTEGER        0       None   \n",
      "14  Player_Attributes   14            dribbling  INTEGER        0       None   \n",
      "15  Player_Attributes   15                curve  INTEGER        0       None   \n",
      "16  Player_Attributes   16   free_kick_accuracy  INTEGER        0       None   \n",
      "17  Player_Attributes   17         long_passing  INTEGER        0       None   \n",
      "18  Player_Attributes   18         ball_control  INTEGER        0       None   \n",
      "19  Player_Attributes   19         acceleration  INTEGER        0       None   \n",
      "20  Player_Attributes   20         sprint_speed  INTEGER        0       None   \n",
      "21  Player_Attributes   21              agility  INTEGER        0       None   \n",
      "22  Player_Attributes   22            reactions  INTEGER        0       None   \n",
      "23  Player_Attributes   23              balance  INTEGER        0       None   \n",
      "24  Player_Attributes   24           shot_power  INTEGER        0       None   \n",
      "25  Player_Attributes   25              jumping  INTEGER        0       None   \n",
      "26  Player_Attributes   26              stamina  INTEGER        0       None   \n",
      "27  Player_Attributes   27             strength  INTEGER        0       None   \n",
      "28  Player_Attributes   28           long_shots  INTEGER        0       None   \n",
      "29  Player_Attributes   29           aggression  INTEGER        0       None   \n",
      "30  Player_Attributes   30        interceptions  INTEGER        0       None   \n",
      "31  Player_Attributes   31          positioning  INTEGER        0       None   \n",
      "32  Player_Attributes   32               vision  INTEGER        0       None   \n",
      "33  Player_Attributes   33            penalties  INTEGER        0       None   \n",
      "34  Player_Attributes   34              marking  INTEGER        0       None   \n",
      "35  Player_Attributes   35      standing_tackle  INTEGER        0       None   \n",
      "36  Player_Attributes   36       sliding_tackle  INTEGER        0       None   \n",
      "37  Player_Attributes   37            gk_diving  INTEGER        0       None   \n",
      "38  Player_Attributes   38          gk_handling  INTEGER        0       None   \n",
      "39  Player_Attributes   39           gk_kicking  INTEGER        0       None   \n",
      "40  Player_Attributes   40       gk_positioning  INTEGER        0       None   \n",
      "41  Player_Attributes   41          gk_reflexes  INTEGER        0       None   \n",
      "\n",
      "    pk  \n",
      "0    1  \n",
      "1    0  \n",
      "2    0  \n",
      "3    0  \n",
      "4    0  \n",
      "5    0  \n",
      "6    0  \n",
      "7    0  \n",
      "8    0  \n",
      "9    0  \n",
      "10   0  \n",
      "11   0  \n",
      "12   0  \n",
      "13   0  \n",
      "14   0  \n",
      "15   0  \n",
      "16   0  \n",
      "17   0  \n",
      "18   0  \n",
      "19   0  \n",
      "20   0  \n",
      "21   0  \n",
      "22   0  \n",
      "23   0  \n",
      "24   0  \n",
      "25   0  \n",
      "26   0  \n",
      "27   0  \n",
      "28   0  \n",
      "29   0  \n",
      "30   0  \n",
      "31   0  \n",
      "32   0  \n",
      "33   0  \n",
      "34   0  \n",
      "35   0  \n",
      "36   0  \n",
      "37   0  \n",
      "38   0  \n",
      "39   0  \n",
      "40   0  \n",
      "41   0   \n",
      "\n",
      "  table_name  cid                name     type  notnull dflt_value  pk\n",
      "0     Player    0                  id  INTEGER        0       None   1\n",
      "1     Player    1       player_api_id  INTEGER        0       None   0\n",
      "2     Player    2         player_name     TEXT        0       None   0\n",
      "3     Player    3  player_fifa_api_id  INTEGER        0       None   0\n",
      "4     Player    4            birthday     TEXT        0       None   0\n",
      "5     Player    5              height  INTEGER        0       None   0\n",
      "6     Player    6              weight  INTEGER        0       None   0 \n",
      "\n",
      "    table_name  cid        name     type  notnull dflt_value  pk\n",
      "0        Match    0          id  INTEGER        0       None   1\n",
      "1        Match    1  country_id  INTEGER        0       None   0\n",
      "2        Match    2   league_id  INTEGER        0       None   0\n",
      "3        Match    3      season     TEXT        0       None   0\n",
      "4        Match    4       stage  INTEGER        0       None   0\n",
      "..         ...  ...         ...      ...      ...        ...  ..\n",
      "110      Match  110         GBD  NUMERIC        0       None   0\n",
      "111      Match  111         GBA  NUMERIC        0       None   0\n",
      "112      Match  112         BSH  NUMERIC        0       None   0\n",
      "113      Match  113         BSD  NUMERIC        0       None   0\n",
      "114      Match  114         BSA  NUMERIC        0       None   0\n",
      "\n",
      "[115 rows x 7 columns] \n",
      "\n",
      "  table_name  cid        name     type  notnull dflt_value  pk\n",
      "0     League    0          id  INTEGER        0       None   1\n",
      "1     League    1  country_id  INTEGER        0       None   0\n",
      "2     League    2        name     TEXT        0       None   0 \n",
      "\n",
      "  table_name  cid  name     type  notnull dflt_value  pk\n",
      "0    Country    0    id  INTEGER        0       None   1\n",
      "1    Country    1  name     TEXT        0       None   0 \n",
      "\n",
      "  table_name  cid              name     type  notnull dflt_value  pk\n",
      "0       Team    0                id  INTEGER        0       None   1\n",
      "1       Team    1       team_api_id  INTEGER        0       None   0\n",
      "2       Team    2  team_fifa_api_id  INTEGER        0       None   0\n",
      "3       Team    3    team_long_name     TEXT        0       None   0\n",
      "4       Team    4   team_short_name     TEXT        0       None   0 \n",
      "\n",
      "         table_name  cid                            name     type  notnull  \\\n",
      "0   Team_Attributes    0                              id  INTEGER        0   \n",
      "1   Team_Attributes    1                team_fifa_api_id  INTEGER        0   \n",
      "2   Team_Attributes    2                     team_api_id  INTEGER        0   \n",
      "3   Team_Attributes    3                            date     TEXT        0   \n",
      "4   Team_Attributes    4                buildUpPlaySpeed  INTEGER        0   \n",
      "5   Team_Attributes    5           buildUpPlaySpeedClass     TEXT        0   \n",
      "6   Team_Attributes    6            buildUpPlayDribbling  INTEGER        0   \n",
      "7   Team_Attributes    7       buildUpPlayDribblingClass     TEXT        0   \n",
      "8   Team_Attributes    8              buildUpPlayPassing  INTEGER        0   \n",
      "9   Team_Attributes    9         buildUpPlayPassingClass     TEXT        0   \n",
      "10  Team_Attributes   10     buildUpPlayPositioningClass     TEXT        0   \n",
      "11  Team_Attributes   11           chanceCreationPassing  INTEGER        0   \n",
      "12  Team_Attributes   12      chanceCreationPassingClass     TEXT        0   \n",
      "13  Team_Attributes   13          chanceCreationCrossing  INTEGER        0   \n",
      "14  Team_Attributes   14     chanceCreationCrossingClass     TEXT        0   \n",
      "15  Team_Attributes   15          chanceCreationShooting  INTEGER        0   \n",
      "16  Team_Attributes   16     chanceCreationShootingClass     TEXT        0   \n",
      "17  Team_Attributes   17  chanceCreationPositioningClass     TEXT        0   \n",
      "18  Team_Attributes   18                 defencePressure  INTEGER        0   \n",
      "19  Team_Attributes   19            defencePressureClass     TEXT        0   \n",
      "20  Team_Attributes   20               defenceAggression  INTEGER        0   \n",
      "21  Team_Attributes   21          defenceAggressionClass     TEXT        0   \n",
      "22  Team_Attributes   22                defenceTeamWidth  INTEGER        0   \n",
      "23  Team_Attributes   23           defenceTeamWidthClass     TEXT        0   \n",
      "24  Team_Attributes   24        defenceDefenderLineClass     TEXT        0   \n",
      "\n",
      "   dflt_value  pk  \n",
      "0        None   1  \n",
      "1        None   0  \n",
      "2        None   0  \n",
      "3        None   0  \n",
      "4        None   0  \n",
      "5        None   0  \n",
      "6        None   0  \n",
      "7        None   0  \n",
      "8        None   0  \n",
      "9        None   0  \n",
      "10       None   0  \n",
      "11       None   0  \n",
      "12       None   0  \n",
      "13       None   0  \n",
      "14       None   0  \n",
      "15       None   0  \n",
      "16       None   0  \n",
      "17       None   0  \n",
      "18       None   0  \n",
      "19       None   0  \n",
      "20       None   0  \n",
      "21       None   0  \n",
      "22       None   0  \n",
      "23       None   0  \n",
      "24       None   0   \n",
      "\n"
     ]
    }
   ],
   "source": [
    "# Use the metadata table 'sqlite_master' and the built-in function \n",
    "# 'pragma_table_info' to get the columns in the Player_Attributes table\n",
    "\n",
    "for name in tables['name']:\n",
    "\n",
    "    sql = (\"\"\"\n",
    "        WITH all_tables AS \n",
    "            (SELECT name \n",
    "            FROM sqlite_master \n",
    "            WHERE type = 'table' \n",
    "            AND name = ?)\n",
    "        SELECT at.name table_name, pti.* \n",
    "        FROM all_tables at \n",
    "        INNER JOIN pragma_table_info(at.name) pti \n",
    "        ORDER BY table_name;\"\"\"\n",
    "    )\n",
    "    args = [name]\n",
    "\n",
    "    columns = pd.read_sql(sql=sql, con=conn, params=args)\n",
    "\n",
    "    print(columns, '\\n')"
   ]
  },
  {
   "cell_type": "markdown",
   "metadata": {},
   "source": [
    "## Explore some of the categorical and numeric fields\n",
    "\n",
    "### Overall Rating field"
   ]
  },
  {
   "cell_type": "code",
   "execution_count": 30,
   "metadata": {},
   "outputs": [
    {
     "data": {
      "text/html": [
       "<div>\n",
       "<style scoped>\n",
       "    .dataframe tbody tr th:only-of-type {\n",
       "        vertical-align: middle;\n",
       "    }\n",
       "\n",
       "    .dataframe tbody tr th {\n",
       "        vertical-align: top;\n",
       "    }\n",
       "\n",
       "    .dataframe thead th {\n",
       "        text-align: right;\n",
       "    }\n",
       "</style>\n",
       "<table border=\"1\" class=\"dataframe\">\n",
       "  <thead>\n",
       "    <tr style=\"text-align: right;\">\n",
       "      <th></th>\n",
       "      <th>Min Rating</th>\n",
       "      <th>Max Rating</th>\n",
       "      <th>Average Rating</th>\n",
       "    </tr>\n",
       "  </thead>\n",
       "  <tbody>\n",
       "    <tr>\n",
       "      <th>0</th>\n",
       "      <td>33</td>\n",
       "      <td>94</td>\n",
       "      <td>69.0</td>\n",
       "    </tr>\n",
       "  </tbody>\n",
       "</table>\n",
       "</div>"
      ],
      "text/plain": [
       "   Min Rating  Max Rating  Average Rating\n",
       "0          33          94            69.0"
      ]
     },
     "execution_count": 30,
     "metadata": {},
     "output_type": "execute_result"
    }
   ],
   "source": [
    "overall_rating_summary = pd.read_sql(\"\"\"SELECT \n",
    "                                        MIN(overall_rating) AS 'Min Rating', \n",
    "                                        MAX(overall_rating) AS 'Max Rating', \n",
    "                                        ROUND(AVG(overall_rating),0) AS 'Average Rating'\n",
    "                                    FROM Player_Attributes\"\"\", conn)\n",
    "\n",
    "overall_rating_summary"
   ]
  },
  {
   "cell_type": "code",
   "execution_count": 31,
   "metadata": {},
   "outputs": [
    {
     "data": {
      "image/png": "[encoded data removed]",
      "text/plain": [
       "<Figure size 640x480 with 1 Axes>"
      ]
     },
     "metadata": {},
     "output_type": "display_data"
    }
   ],
   "source": [
    "overall_ratings = pd.read_sql(\"\"\"SELECT overall_rating AS 'Overall Rating' FROM Player_Attributes\"\"\", conn)\n",
    "or_plt = overall_ratings.boxplot(column='Overall Rating', )\n",
    "or_plt.plot()\n",
    "plt.title(\"Ratings\")\n",
    "plt.show()"
   ]
  },
  {
   "cell_type": "code",
   "execution_count": 57,
   "metadata": {},
   "outputs": [
    {
     "data": {
      "image/png": "[encoded data removed]",
      "text/plain": [
       "<Figure size 640x480 with 1 Axes>"
      ]
     },
     "metadata": {},
     "output_type": "display_data"
    }
   ],
   "source": [
    "vc_plt = overall_ratings.value_counts().sort_index().plot()\n",
    "plt.plot()\n",
    "plt.show()"
   ]
  },
  {
   "cell_type": "markdown",
   "metadata": {},
   "source": [
    "###  Preferred Foot field"
   ]
  },
  {
   "cell_type": "code",
   "execution_count": 32,
   "metadata": {},
   "outputs": [
    {
     "data": {
      "text/html": [
       "<div>\n",
       "<style scoped>\n",
       "    .dataframe tbody tr th:only-of-type {\n",
       "        vertical-align: middle;\n",
       "    }\n",
       "\n",
       "    .dataframe tbody tr th {\n",
       "        vertical-align: top;\n",
       "    }\n",
       "\n",
       "    .dataframe thead th {\n",
       "        text-align: right;\n",
       "    }\n",
       "</style>\n",
       "<table border=\"1\" class=\"dataframe\">\n",
       "  <thead>\n",
       "    <tr style=\"text-align: right;\">\n",
       "      <th></th>\n",
       "      <th>Number of Players</th>\n",
       "    </tr>\n",
       "    <tr>\n",
       "      <th>Preferred Foot</th>\n",
       "      <th></th>\n",
       "    </tr>\n",
       "  </thead>\n",
       "  <tbody>\n",
       "    <tr>\n",
       "      <th>None</th>\n",
       "      <td>836</td>\n",
       "    </tr>\n",
       "    <tr>\n",
       "      <th>left</th>\n",
       "      <td>44733</td>\n",
       "    </tr>\n",
       "    <tr>\n",
       "      <th>right</th>\n",
       "      <td>138409</td>\n",
       "    </tr>\n",
       "  </tbody>\n",
       "</table>\n",
       "</div>"
      ],
      "text/plain": [
       "                Number of Players\n",
       "Preferred Foot                   \n",
       "None                          836\n",
       "left                        44733\n",
       "right                      138409"
      ]
     },
     "execution_count": 32,
     "metadata": {},
     "output_type": "execute_result"
    }
   ],
   "source": [
    "preferred_foot = pd.read_sql(\"\"\"SELECT \n",
    "                                    preferred_foot as 'Preferred Foot', \n",
    "                                    COUNT(1) as 'Number of Players' \n",
    "                                FROM Player_Attributes\n",
    "                                GROUP BY preferred_foot\"\"\", \n",
    "                                conn, \n",
    "                                index_col='Preferred Foot')\n",
    "preferred_foot"
   ]
  },
  {
   "cell_type": "code",
   "execution_count": 33,
   "metadata": {},
   "outputs": [
    {
     "data": {
      "image/png": "[encoded data removed]",
      "text/plain": [
       "<Figure size 640x480 with 1 Axes>"
      ]
     },
     "metadata": {},
     "output_type": "display_data"
    }
   ],
   "source": [
    "preferred_foot.plot(kind='pie', \n",
    "                    y='Number of Players', \n",
    "                    title='Preferred Foot')\n",
    "plt.plot()\n",
    "plt.show()"
   ]
  },
  {
   "cell_type": "markdown",
   "metadata": {},
   "source": [
    "## Leagues"
   ]
  },
  {
   "cell_type": "code",
   "execution_count": 4,
   "metadata": {},
   "outputs": [
    {
     "data": {
      "text/html": [
       "<div>\n",
       "<style scoped>\n",
       "    .dataframe tbody tr th:only-of-type {\n",
       "        vertical-align: middle;\n",
       "    }\n",
       "\n",
       "    .dataframe tbody tr th {\n",
       "        vertical-align: top;\n",
       "    }\n",
       "\n",
       "    .dataframe thead th {\n",
       "        text-align: right;\n",
       "    }\n",
       "</style>\n",
       "<table border=\"1\" class=\"dataframe\">\n",
       "  <thead>\n",
       "    <tr style=\"text-align: right;\">\n",
       "      <th></th>\n",
       "      <th>name</th>\n",
       "      <th>Number of Leagues</th>\n",
       "    </tr>\n",
       "  </thead>\n",
       "  <tbody>\n",
       "    <tr>\n",
       "      <th>0</th>\n",
       "      <td>Belgium Jupiler League</td>\n",
       "      <td>1</td>\n",
       "    </tr>\n",
       "    <tr>\n",
       "      <th>1</th>\n",
       "      <td>England Premier League</td>\n",
       "      <td>1</td>\n",
       "    </tr>\n",
       "    <tr>\n",
       "      <th>2</th>\n",
       "      <td>France Ligue 1</td>\n",
       "      <td>1</td>\n",
       "    </tr>\n",
       "    <tr>\n",
       "      <th>3</th>\n",
       "      <td>Germany 1. Bundesliga</td>\n",
       "      <td>1</td>\n",
       "    </tr>\n",
       "    <tr>\n",
       "      <th>4</th>\n",
       "      <td>Italy Serie A</td>\n",
       "      <td>1</td>\n",
       "    </tr>\n",
       "    <tr>\n",
       "      <th>5</th>\n",
       "      <td>Netherlands Eredivisie</td>\n",
       "      <td>1</td>\n",
       "    </tr>\n",
       "    <tr>\n",
       "      <th>6</th>\n",
       "      <td>Poland Ekstraklasa</td>\n",
       "      <td>1</td>\n",
       "    </tr>\n",
       "    <tr>\n",
       "      <th>7</th>\n",
       "      <td>Portugal Liga ZON Sagres</td>\n",
       "      <td>1</td>\n",
       "    </tr>\n",
       "    <tr>\n",
       "      <th>8</th>\n",
       "      <td>Scotland Premier League</td>\n",
       "      <td>1</td>\n",
       "    </tr>\n",
       "    <tr>\n",
       "      <th>9</th>\n",
       "      <td>Spain LIGA BBVA</td>\n",
       "      <td>1</td>\n",
       "    </tr>\n",
       "    <tr>\n",
       "      <th>10</th>\n",
       "      <td>Switzerland Super League</td>\n",
       "      <td>1</td>\n",
       "    </tr>\n",
       "  </tbody>\n",
       "</table>\n",
       "</div>"
      ],
      "text/plain": [
       "                        name  Number of Leagues\n",
       "0     Belgium Jupiler League                  1\n",
       "1     England Premier League                  1\n",
       "2             France Ligue 1                  1\n",
       "3      Germany 1. Bundesliga                  1\n",
       "4              Italy Serie A                  1\n",
       "5     Netherlands Eredivisie                  1\n",
       "6         Poland Ekstraklasa                  1\n",
       "7   Portugal Liga ZON Sagres                  1\n",
       "8    Scotland Premier League                  1\n",
       "9            Spain LIGA BBVA                  1\n",
       "10  Switzerland Super League                  1"
      ]
     },
     "execution_count": 4,
     "metadata": {},
     "output_type": "execute_result"
    }
   ],
   "source": [
    "leagues = pd.read_sql(\"SELECT name, count(1) as 'Number of Leagues' FROM League GROUP BY name;\", conn)\n",
    "\n",
    "leagues"
   ]
  },
  {
   "cell_type": "code",
   "execution_count": 13,
   "metadata": {},
   "outputs": [
    {
     "data": {
      "text/html": [
       "<div>\n",
       "<style scoped>\n",
       "    .dataframe tbody tr th:only-of-type {\n",
       "        vertical-align: middle;\n",
       "    }\n",
       "\n",
       "    .dataframe tbody tr th {\n",
       "        vertical-align: top;\n",
       "    }\n",
       "\n",
       "    .dataframe thead th {\n",
       "        text-align: right;\n",
       "    }\n",
       "</style>\n",
       "<table border=\"1\" class=\"dataframe\">\n",
       "  <thead>\n",
       "    <tr style=\"text-align: right;\">\n",
       "      <th></th>\n",
       "      <th>num teams</th>\n",
       "    </tr>\n",
       "    <tr>\n",
       "      <th>name</th>\n",
       "      <th></th>\n",
       "    </tr>\n",
       "  </thead>\n",
       "  <tbody>\n",
       "    <tr>\n",
       "      <th>Belgium Jupiler League</th>\n",
       "      <td>25</td>\n",
       "    </tr>\n",
       "    <tr>\n",
       "      <th>England Premier League</th>\n",
       "      <td>34</td>\n",
       "    </tr>\n",
       "    <tr>\n",
       "      <th>France Ligue 1</th>\n",
       "      <td>35</td>\n",
       "    </tr>\n",
       "    <tr>\n",
       "      <th>Germany 1. Bundesliga</th>\n",
       "      <td>30</td>\n",
       "    </tr>\n",
       "    <tr>\n",
       "      <th>Italy Serie A</th>\n",
       "      <td>32</td>\n",
       "    </tr>\n",
       "    <tr>\n",
       "      <th>Netherlands Eredivisie</th>\n",
       "      <td>25</td>\n",
       "    </tr>\n",
       "    <tr>\n",
       "      <th>Poland Ekstraklasa</th>\n",
       "      <td>24</td>\n",
       "    </tr>\n",
       "    <tr>\n",
       "      <th>Portugal Liga ZON Sagres</th>\n",
       "      <td>29</td>\n",
       "    </tr>\n",
       "    <tr>\n",
       "      <th>Scotland Premier League</th>\n",
       "      <td>17</td>\n",
       "    </tr>\n",
       "    <tr>\n",
       "      <th>Spain LIGA BBVA</th>\n",
       "      <td>33</td>\n",
       "    </tr>\n",
       "    <tr>\n",
       "      <th>Switzerland Super League</th>\n",
       "      <td>15</td>\n",
       "    </tr>\n",
       "  </tbody>\n",
       "</table>\n",
       "</div>"
      ],
      "text/plain": [
       "                          num teams\n",
       "name                               \n",
       "Belgium Jupiler League           25\n",
       "England Premier League           34\n",
       "France Ligue 1                   35\n",
       "Germany 1. Bundesliga            30\n",
       "Italy Serie A                    32\n",
       "Netherlands Eredivisie           25\n",
       "Poland Ekstraklasa               24\n",
       "Portugal Liga ZON Sagres         29\n",
       "Scotland Premier League          17\n",
       "Spain LIGA BBVA                  33\n",
       "Switzerland Super League         15"
      ]
     },
     "execution_count": 13,
     "metadata": {},
     "output_type": "execute_result"
    }
   ],
   "source": [
    "league_teams = pd.read_sql(\"\"\"SELECT League.name, count(distinct(home_team_api_id)) as 'num teams'\n",
    "                                FROM Match\n",
    "                                LEFT JOIN League on League.id = Match.league_id\n",
    "                                GROUP BY league_id\"\"\", conn, index_col='name')\n",
    "\n",
    "league_teams"
   ]
  },
  {
   "cell_type": "code",
   "execution_count": 14,
   "metadata": {},
   "outputs": [
    {
     "data": {
      "text/plain": [
       "<Axes: xlabel='name'>"
      ]
     },
     "execution_count": 14,
     "metadata": {},
     "output_type": "execute_result"
    },
    {
     "data": {
      "image/png": "[encoded data removed]",
      "text/plain": [
       "<Figure size 640x480 with 1 Axes>"
      ]
     },
     "metadata": {},
     "output_type": "display_data"
    }
   ],
   "source": [
    "league_teams.plot(kind='bar')"
   ]
  },
  {
   "cell_type": "markdown",
   "metadata": {},
   "source": [
    "## Questions\n",
    "\n",
    "- Is ther a difference in the distribution of player ratings between leagues?\n",
    "- Are there more outlier (high and low) in some leagues?\n",
    "- Is there a correlation between foot preference and player ratings?\n",
    "\n"
   ]
  }
 ],
 "metadata": {
  "kernelspec": {
   "display_name": "Python 3.9.2 ('venv': venv)",
   "language": "python",
   "name": "python3"
  },
  "language_info": {
   "codemirror_mode": {
    "name": "ipython",
    "version": 3
   },
   "file_extension": ".py",
   "mimetype": "text/x-python",
   "name": "python",
   "nbconvert_exporter": "python",
   "pygments_lexer": "ipython3",
   "version": "3.9.2"
  },
  "orig_nbformat": 4,
  "vscode": {
   "interpreter": {
    "hash": "7ae28ece68655bfa10ea423402b210cfc33b8250e331b4dc88eea594eac2e0c0"
   }
  }
 },
 "nbformat": 4,
 "nbformat_minor": 2
}
